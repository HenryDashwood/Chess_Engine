{
 "cells": [
  {
   "cell_type": "code",
   "execution_count": 1,
   "metadata": {},
   "outputs": [],
   "source": [
    "%load_ext autoreload\n",
    "%autoreload 2"
   ]
  },
  {
   "cell_type": "code",
   "execution_count": 2,
   "metadata": {},
   "outputs": [],
   "source": [
    "import chess.pgn\n",
    "import numpy as np\n",
    "from IPython.display import display, clear_output\n",
    "import torch\n",
    "from fastai2.data import *\n",
    "from fastai2.basics import *\n",
    "from fastai2.callback.all import *"
   ]
  },
  {
   "cell_type": "code",
   "execution_count": 3,
   "metadata": {},
   "outputs": [],
   "source": [
    "device = torch.device(\"cuda\") if torch.cuda.is_available() else torch.device(\"cpu\")"
   ]
  },
  {
   "cell_type": "code",
   "execution_count": 4,
   "metadata": {},
   "outputs": [],
   "source": [
    "def get_bitboard(board):\n",
    "    '''\n",
    "    params\n",
    "    ------\n",
    "    board : chess.pgn board object\n",
    "        board to get state from\n",
    "    returns\n",
    "    -------\n",
    "    bitboard representation of the state of the game\n",
    "    64 * 6 + 5 dim binary numpy vector\n",
    "    64 squares, 6 pieces, '1' indicates the piece is at a square\n",
    "    5 extra dimensions for castling rights queenside/kingside and whose turn\n",
    "    '''\n",
    "    bitboard = np.zeros(64*6*2+5)\n",
    "\n",
    "    piece_idx = {'p': 0, 'n': 1, 'b': 2, 'r': 3, 'q': 4, 'k': 5}\n",
    "\n",
    "    for i in range(64):\n",
    "        if board.piece_at(i):\n",
    "            color = int(board.piece_at(i).color) + 1\n",
    "            bitboard[(piece_idx[board.piece_at(i).symbol().lower()] + i * 6) * color] = 1\n",
    "\n",
    "    bitboard[-1] = int(board.turn)\n",
    "    bitboard[-2] = int(board.has_kingside_castling_rights(True))\n",
    "    bitboard[-3] = int(board.has_kingside_castling_rights(False))\n",
    "    bitboard[-4] = int(board.has_queenside_castling_rights(True))\n",
    "    bitboard[-5] = int(board.has_queenside_castling_rights(False))\n",
    "\n",
    "    return bitboard"
   ]
  },
  {
   "cell_type": "code",
   "execution_count": 5,
   "metadata": {},
   "outputs": [],
   "source": [
    "def get_result(game):\n",
    "    result = game.headers['Result']\n",
    "    result = result.split('-')\n",
    "    if result[0] == '1':\n",
    "        return 1\n",
    "    elif result[0] == '0':\n",
    "        return -1\n",
    "    else:\n",
    "        return 0"
   ]
  },
  {
   "cell_type": "code",
   "execution_count": 69,
   "metadata": {},
   "outputs": [],
   "source": [
    "# Change function to write files with correct names \n",
    "def pgn_to_np(path):\n",
    "    games = open(path)\n",
    "    bitboards = []\n",
    "    labels = []\n",
    "    num_games = 0\n",
    "\n",
    "#     while True:\n",
    "    for i in range(16):\n",
    "#         if num_games % 1000 == 0:\n",
    "#             clear_output()\n",
    "#             print(num_games)\n",
    "        num_games += 1\n",
    "\n",
    "        game = chess.pgn.read_game(games)\n",
    "\n",
    "        try:\n",
    "            result = get_result(game)\n",
    "            board = game.board()\n",
    "            for move in game.mainline_moves():\n",
    "                board.push(move)\n",
    "                bitboard = get_bitboard(board)\n",
    "\n",
    "                bitboards.append(bitboard)\n",
    "                labels.append(result)\n",
    "        except:\n",
    "            clear_output()\n",
    "            print(f\"{num_games} games in file\")\n",
    "            break\n",
    "\n",
    "    return torch.FloatTensor(bitboards), torch.FloatTensor(labels)\n",
    "\n",
    "bitboards, labels = pgn_to_np('data/games.pgn')"
   ]
  },
  {
   "cell_type": "code",
   "execution_count": 7,
   "metadata": {},
   "outputs": [],
   "source": [
    "class ChessPosition(Transform):\n",
    "    def __init__(self, bitboards, labels):\n",
    "        self.bitboards, self.labels = bitboards, labels\n",
    "        \n",
    "    def encodes(self, i):\n",
    "        return (bitboards[i], labels[i].unsqueeze(-1))"
   ]
  },
  {
   "cell_type": "code",
   "execution_count": 62,
   "metadata": {},
   "outputs": [],
   "source": [
    "cp = ChessPosition(bitboards, labels)\n",
    "pipe = Pipeline([cp])\n",
    "splits = RandomSplitter()(range_of(range_of(pipe(0)[0])))\n",
    "tls = TfmdLists(range_of(pipe(0)[0]), pipe, splits=splits)\n",
    "dls = tls.dataloaders(bs=8, device=device.type, num_workers=0)"
   ]
  },
  {
   "cell_type": "code",
   "execution_count": 64,
   "metadata": {},
   "outputs": [],
   "source": [
    "class SimpleModel(nn.Module):\n",
    "    def __init__(self):\n",
    "        super(SimpleModel, self).__init__()\n",
    "        self.linear1 = nn.Linear(773, 128)\n",
    "        self.linear2 = nn.Linear(128, 1)\n",
    "\n",
    "    def forward(self, feature_vec):\n",
    "        hidden1 = self.linear1(feature_vec).clamp(min=0)\n",
    "        output = self.linear2(hidden1)\n",
    "        return F.tanh(output)"
   ]
  },
  {
   "cell_type": "code",
   "execution_count": 65,
   "metadata": {},
   "outputs": [],
   "source": [
    "learn = Learner(\n",
    "    dls, \n",
    "    SimpleModel(), \n",
    "    loss_func=nn.BCEWithLogitsLoss(), \n",
    "    opt_func=partial(Adam), \n",
    "    metrics=accuracy\n",
    ")"
   ]
  },
  {
   "cell_type": "code",
   "execution_count": 66,
   "metadata": {},
   "outputs": [
    {
     "data": {
      "text/html": [
       "<table border=\"1\" class=\"dataframe\">\n",
       "  <thead>\n",
       "    <tr style=\"text-align: left;\">\n",
       "      <th>epoch</th>\n",
       "      <th>train_loss</th>\n",
       "      <th>valid_loss</th>\n",
       "      <th>accuracy</th>\n",
       "      <th>time</th>\n",
       "    </tr>\n",
       "  </thead>\n",
       "  <tbody>\n",
       "    <tr>\n",
       "      <td>0</td>\n",
       "      <td>0.142003</td>\n",
       "      <td>0.070747</td>\n",
       "      <td>0.155844</td>\n",
       "      <td>00:01</td>\n",
       "    </tr>\n",
       "    <tr>\n",
       "      <td>1</td>\n",
       "      <td>-0.060096</td>\n",
       "      <td>-0.016537</td>\n",
       "      <td>0.155844</td>\n",
       "      <td>00:01</td>\n",
       "    </tr>\n",
       "    <tr>\n",
       "      <td>2</td>\n",
       "      <td>-0.121328</td>\n",
       "      <td>-0.050234</td>\n",
       "      <td>0.155844</td>\n",
       "      <td>00:01</td>\n",
       "    </tr>\n",
       "    <tr>\n",
       "      <td>3</td>\n",
       "      <td>-0.130375</td>\n",
       "      <td>-0.049468</td>\n",
       "      <td>0.155844</td>\n",
       "      <td>00:01</td>\n",
       "    </tr>\n",
       "    <tr>\n",
       "      <td>4</td>\n",
       "      <td>-0.142731</td>\n",
       "      <td>-0.057911</td>\n",
       "      <td>0.155844</td>\n",
       "      <td>00:01</td>\n",
       "    </tr>\n",
       "    <tr>\n",
       "      <td>5</td>\n",
       "      <td>-0.158457</td>\n",
       "      <td>-0.060602</td>\n",
       "      <td>0.155844</td>\n",
       "      <td>00:01</td>\n",
       "    </tr>\n",
       "    <tr>\n",
       "      <td>6</td>\n",
       "      <td>-0.153500</td>\n",
       "      <td>-0.063086</td>\n",
       "      <td>0.155844</td>\n",
       "      <td>00:01</td>\n",
       "    </tr>\n",
       "    <tr>\n",
       "      <td>7</td>\n",
       "      <td>-0.174080</td>\n",
       "      <td>-0.064671</td>\n",
       "      <td>0.155844</td>\n",
       "      <td>00:01</td>\n",
       "    </tr>\n",
       "    <tr>\n",
       "      <td>8</td>\n",
       "      <td>-0.167289</td>\n",
       "      <td>-0.065925</td>\n",
       "      <td>0.155844</td>\n",
       "      <td>00:01</td>\n",
       "    </tr>\n",
       "    <tr>\n",
       "      <td>9</td>\n",
       "      <td>-0.160771</td>\n",
       "      <td>-0.051708</td>\n",
       "      <td>0.155844</td>\n",
       "      <td>00:01</td>\n",
       "    </tr>\n",
       "  </tbody>\n",
       "</table>"
      ],
      "text/plain": [
       "<IPython.core.display.HTML object>"
      ]
     },
     "metadata": {},
     "output_type": "display_data"
    }
   ],
   "source": [
    "learn.fit(10)"
   ]
  },
  {
   "cell_type": "code",
   "execution_count": null,
   "metadata": {},
   "outputs": [],
   "source": []
  },
  {
   "cell_type": "code",
   "execution_count": null,
   "metadata": {},
   "outputs": [],
   "source": []
  }
 ],
 "metadata": {
  "kernelspec": {
   "display_name": "py374",
   "language": "python",
   "name": "py374"
  },
  "language_info": {
   "codemirror_mode": {
    "name": "ipython",
    "version": 3
   },
   "file_extension": ".py",
   "mimetype": "text/x-python",
   "name": "python",
   "nbconvert_exporter": "python",
   "pygments_lexer": "ipython3",
   "version": "3.7.4"
  }
 },
 "nbformat": 4,
 "nbformat_minor": 4
}
