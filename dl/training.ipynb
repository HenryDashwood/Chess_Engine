{
 "cells": [
  {
   "cell_type": "code",
   "execution_count": 1,
   "metadata": {},
   "outputs": [],
   "source": [
    "%load_ext autoreload\n",
    "%autoreload 2"
   ]
  },
  {
   "cell_type": "code",
   "execution_count": 2,
   "metadata": {},
   "outputs": [],
   "source": [
    "import chess.pgn\n",
    "import numpy as np\n",
    "from IPython.display import display, clear_output\n",
    "import torch\n",
    "from fastai2.data import *\n",
    "from fastai2.basics import *\n",
    "from fastai2.callback.all import *\n",
    "from models import Model1"
   ]
  },
  {
   "cell_type": "code",
   "execution_count": 3,
   "metadata": {},
   "outputs": [],
   "source": [
    "device = torch.device(\"cuda\") if torch.cuda.is_available() else torch.device(\"cpu\")"
   ]
  },
  {
   "cell_type": "code",
   "execution_count": 4,
   "metadata": {},
   "outputs": [],
   "source": [
    "def get_bitboard(board):\n",
    "    '''\n",
    "    params\n",
    "    ------\n",
    "    board : chess.pgn board object\n",
    "        board to get state from\n",
    "    returns\n",
    "    -------\n",
    "    bitboard representation of the state of the game\n",
    "    64 * 6 + 5 dim binary numpy vector\n",
    "    64 squares, 6 pieces, '1' indicates the piece is at a square\n",
    "    5 extra dimensions for castling rights queenside/kingside and whose turn\n",
    "    '''\n",
    "    bitboard = np.zeros(64*6*2+5)\n",
    "    piece_idx = {'p': 0, 'n': 1, 'b': 2, 'r': 3, 'q': 4, 'k': 5}\n",
    "    for i in range(64):\n",
    "        if board.piece_at(i):\n",
    "            color = int(board.piece_at(i).color) + 1\n",
    "            bitboard[(piece_idx[board.piece_at(i).symbol().lower()] + i * 6) * color] = 1\n",
    "    bitboard[-1] = int(board.turn)\n",
    "    bitboard[-2] = int(board.has_kingside_castling_rights(True))\n",
    "    bitboard[-3] = int(board.has_kingside_castling_rights(False))\n",
    "    bitboard[-4] = int(board.has_queenside_castling_rights(True))\n",
    "    bitboard[-5] = int(board.has_queenside_castling_rights(False))\n",
    "    return bitboard"
   ]
  },
  {
   "cell_type": "code",
   "execution_count": 5,
   "metadata": {},
   "outputs": [],
   "source": [
    "def get_result(game):\n",
    "    result = game.headers['Result']\n",
    "    result = result.split('-')\n",
    "    if result[0] == '1':\n",
    "        return 1\n",
    "    elif result[0] == '0':\n",
    "        return -1\n",
    "    else:\n",
    "        return 0"
   ]
  },
  {
   "cell_type": "code",
   "execution_count": 6,
   "metadata": {},
   "outputs": [],
   "source": [
    "def pgn_to_np(path):\n",
    "    games = open(path)\n",
    "    bitboards = []\n",
    "    labels = []\n",
    "    for i in progress_bar(range(1000)):\n",
    "        game = chess.pgn.read_game(games)\n",
    "        try:\n",
    "            result = get_result(game)\n",
    "            board = game.board()\n",
    "            for move in game.mainline_moves():\n",
    "                board.push(move)\n",
    "                bitboard = get_bitboard(board)\n",
    "\n",
    "                bitboards.append(bitboard)\n",
    "                labels.append(result)\n",
    "        except:\n",
    "            print(f\"{i} games in file\")\n",
    "            break\n",
    "    return torch.FloatTensor(bitboards), torch.FloatTensor(labels)"
   ]
  },
  {
   "cell_type": "code",
   "execution_count": 7,
   "metadata": {},
   "outputs": [],
   "source": [
    "class ChessPosition(Transform):\n",
    "    def __init__(self, bitboards, labels):\n",
    "        self.bitboards, self.labels = bitboards, labels\n",
    "        \n",
    "    def encodes(self, i):\n",
    "        return (bitboards[i], labels[i].unsqueeze(-1))"
   ]
  },
  {
   "cell_type": "code",
   "execution_count": 8,
   "metadata": {},
   "outputs": [
    {
     "data": {
      "text/html": [
       "\n",
       "    <div>\n",
       "        <style>\n",
       "            /* Turns off some styling */\n",
       "            progress {\n",
       "                /* gets rid of default border in Firefox and Opera. */\n",
       "                border: none;\n",
       "                /* Needs to be in here for Safari polyfill so background images work as expected. */\n",
       "                background-size: auto;\n",
       "            }\n",
       "            .progress-bar-interrupted, .progress-bar-interrupted::-webkit-progress-bar {\n",
       "                background: #F44336;\n",
       "            }\n",
       "        </style>\n",
       "      <progress value='1000' class='' max='1000', style='width:300px; height:20px; vertical-align: middle;'></progress>\n",
       "      100.00% [1000/1000 00:17<00:00]\n",
       "    </div>\n",
       "    "
      ],
      "text/plain": [
       "<IPython.core.display.HTML object>"
      ]
     },
     "metadata": {},
     "output_type": "display_data"
    }
   ],
   "source": [
    "bitboards, labels = pgn_to_np('../data/games.pgn')\n",
    "cp = ChessPosition(bitboards, labels)\n",
    "pipe = Pipeline([cp])\n",
    "splits = RandomSplitter()(range_of(range_of(pipe(0)[0])))\n",
    "tls = TfmdLists(range_of(pipe(0)[0]), pipe, splits=splits)\n",
    "dls = tls.dataloaders(bs=8, device=device.type, num_workers=0)"
   ]
  },
  {
   "cell_type": "code",
   "execution_count": 9,
   "metadata": {},
   "outputs": [],
   "source": [
    "learn = Learner(\n",
    "    dls, \n",
    "    Model1(), \n",
    "    loss_func=nn.BCEWithLogitsLoss(), \n",
    "    opt_func=partial(Adam), \n",
    "    metrics=accuracy\n",
    ")"
   ]
  },
  {
   "cell_type": "code",
   "execution_count": 10,
   "metadata": {},
   "outputs": [
    {
     "data": {
      "text/html": [
       "<table border=\"1\" class=\"dataframe\">\n",
       "  <thead>\n",
       "    <tr style=\"text-align: left;\">\n",
       "      <th>epoch</th>\n",
       "      <th>train_loss</th>\n",
       "      <th>valid_loss</th>\n",
       "      <th>accuracy</th>\n",
       "      <th>time</th>\n",
       "    </tr>\n",
       "  </thead>\n",
       "  <tbody>\n",
       "    <tr>\n",
       "      <td>0</td>\n",
       "      <td>0.182335</td>\n",
       "      <td>0.120134</td>\n",
       "      <td>0.168831</td>\n",
       "      <td>00:01</td>\n",
       "    </tr>\n",
       "    <tr>\n",
       "      <td>1</td>\n",
       "      <td>0.112332</td>\n",
       "      <td>0.079487</td>\n",
       "      <td>0.168831</td>\n",
       "      <td>00:01</td>\n",
       "    </tr>\n",
       "    <tr>\n",
       "      <td>2</td>\n",
       "      <td>0.095447</td>\n",
       "      <td>0.034891</td>\n",
       "      <td>0.168831</td>\n",
       "      <td>00:01</td>\n",
       "    </tr>\n",
       "    <tr>\n",
       "      <td>3</td>\n",
       "      <td>0.045447</td>\n",
       "      <td>0.052401</td>\n",
       "      <td>0.168831</td>\n",
       "      <td>00:01</td>\n",
       "    </tr>\n",
       "    <tr>\n",
       "      <td>4</td>\n",
       "      <td>0.011960</td>\n",
       "      <td>0.020788</td>\n",
       "      <td>0.168831</td>\n",
       "      <td>00:01</td>\n",
       "    </tr>\n",
       "    <tr>\n",
       "      <td>5</td>\n",
       "      <td>0.022735</td>\n",
       "      <td>-0.009485</td>\n",
       "      <td>0.168831</td>\n",
       "      <td>00:01</td>\n",
       "    </tr>\n",
       "    <tr>\n",
       "      <td>6</td>\n",
       "      <td>-0.011735</td>\n",
       "      <td>-0.035819</td>\n",
       "      <td>0.168831</td>\n",
       "      <td>00:01</td>\n",
       "    </tr>\n",
       "    <tr>\n",
       "      <td>7</td>\n",
       "      <td>-0.017533</td>\n",
       "      <td>-0.042523</td>\n",
       "      <td>0.168831</td>\n",
       "      <td>00:01</td>\n",
       "    </tr>\n",
       "    <tr>\n",
       "      <td>8</td>\n",
       "      <td>-0.059016</td>\n",
       "      <td>-0.033911</td>\n",
       "      <td>0.168831</td>\n",
       "      <td>00:01</td>\n",
       "    </tr>\n",
       "    <tr>\n",
       "      <td>9</td>\n",
       "      <td>-0.035091</td>\n",
       "      <td>-0.017452</td>\n",
       "      <td>0.168831</td>\n",
       "      <td>00:01</td>\n",
       "    </tr>\n",
       "  </tbody>\n",
       "</table>"
      ],
      "text/plain": [
       "<IPython.core.display.HTML object>"
      ]
     },
     "metadata": {},
     "output_type": "display_data"
    }
   ],
   "source": [
    "learn.fit(10)"
   ]
  },
  {
   "cell_type": "code",
   "execution_count": null,
   "metadata": {},
   "outputs": [],
   "source": []
  },
  {
   "cell_type": "code",
   "execution_count": null,
   "metadata": {},
   "outputs": [],
   "source": []
  }
 ],
 "metadata": {
  "kernelspec": {
   "display_name": "py374",
   "language": "python",
   "name": "py374"
  },
  "language_info": {
   "codemirror_mode": {
    "name": "ipython",
    "version": 3
   },
   "file_extension": ".py",
   "mimetype": "text/x-python",
   "name": "python",
   "nbconvert_exporter": "python",
   "pygments_lexer": "ipython3",
   "version": "3.7.4"
  }
 },
 "nbformat": 4,
 "nbformat_minor": 4
}
